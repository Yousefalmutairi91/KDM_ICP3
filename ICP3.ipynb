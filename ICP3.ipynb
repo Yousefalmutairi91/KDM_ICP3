{
  "nbformat": 4,
  "nbformat_minor": 0,
  "metadata": {
    "colab": {
      "name": "ICP3.ipynb",
      "provenance": [],
      "include_colab_link": true
    },
    "kernelspec": {
      "name": "python3",
      "display_name": "Python 3"
    }
  },
  "cells": [
    {
      "cell_type": "markdown",
      "metadata": {
        "id": "view-in-github",
        "colab_type": "text"
      },
      "source": [
        "<a href=\"https://colab.research.google.com/github/Yousefalmutairi91/KDM_ICP3/blob/main/ICP3.ipynb\" target=\"_parent\"><img src=\"https://colab.research.google.com/assets/colab-badge.svg\" alt=\"Open In Colab\"/></a>"
      ]
    },
    {
      "cell_type": "code",
      "metadata": {
        "colab": {
          "base_uri": "https://localhost:8080/"
        },
        "id": "SGjwhYvQDcZK",
        "outputId": "89c1465a-4c4f-4b04-d50b-30facda1f442"
      },
      "source": [
        "import os\n",
        "import numpy as np\n",
        "import spacy\n",
        "!pip install textacy\n",
        "import textacy"
      ],
      "execution_count": 1,
      "outputs": [
        {
          "output_type": "stream",
          "text": [
            "Collecting textacy\n",
            "\u001b[?25l  Downloading https://files.pythonhosted.org/packages/65/99/054efc5dea92c84a850639c490541de6cba29bc148debc3c73848c5e64c2/textacy-0.10.1-py3-none-any.whl (183kB)\n",
            "\r\u001b[K     |█▉                              | 10kB 16.2MB/s eta 0:00:01\r\u001b[K     |███▋                            | 20kB 13.5MB/s eta 0:00:01\r\u001b[K     |█████▍                          | 30kB 8.0MB/s eta 0:00:01\r\u001b[K     |███████▏                        | 40kB 6.9MB/s eta 0:00:01\r\u001b[K     |█████████                       | 51kB 4.0MB/s eta 0:00:01\r\u001b[K     |██████████▊                     | 61kB 4.5MB/s eta 0:00:01\r\u001b[K     |████████████▌                   | 71kB 4.9MB/s eta 0:00:01\r\u001b[K     |██████████████▎                 | 81kB 5.1MB/s eta 0:00:01\r\u001b[K     |████████████████                | 92kB 5.3MB/s eta 0:00:01\r\u001b[K     |██████████████████              | 102kB 4.2MB/s eta 0:00:01\r\u001b[K     |███████████████████▊            | 112kB 4.2MB/s eta 0:00:01\r\u001b[K     |█████████████████████▌          | 122kB 4.2MB/s eta 0:00:01\r\u001b[K     |███████████████████████▎        | 133kB 4.2MB/s eta 0:00:01\r\u001b[K     |█████████████████████████       | 143kB 4.2MB/s eta 0:00:01\r\u001b[K     |██████████████████████████▉     | 153kB 4.2MB/s eta 0:00:01\r\u001b[K     |████████████████████████████▋   | 163kB 4.2MB/s eta 0:00:01\r\u001b[K     |██████████████████████████████▍ | 174kB 4.2MB/s eta 0:00:01\r\u001b[K     |████████████████████████████████| 184kB 4.2MB/s \n",
            "\u001b[?25hRequirement already satisfied: requests>=2.10.0 in /usr/local/lib/python3.6/dist-packages (from textacy) (2.23.0)\n",
            "Requirement already satisfied: networkx>=2.0 in /usr/local/lib/python3.6/dist-packages (from textacy) (2.5)\n",
            "Collecting pyphen>=0.9.4\n",
            "\u001b[?25l  Downloading https://files.pythonhosted.org/packages/7c/5a/5bc036e01389bc6a6667a932bac3e388de6e7fa5777a6ff50e652f60ec79/Pyphen-0.10.0-py3-none-any.whl (1.9MB)\n",
            "\u001b[K     |████████████████████████████████| 1.9MB 6.2MB/s \n",
            "\u001b[?25hRequirement already satisfied: spacy<3.0.0,>=2.2.0 in /usr/local/lib/python3.6/dist-packages (from textacy) (2.2.4)\n",
            "Requirement already satisfied: joblib>=0.13.0 in /usr/local/lib/python3.6/dist-packages (from textacy) (1.0.0)\n",
            "Collecting jellyfish>=0.7.0\n",
            "\u001b[?25l  Downloading https://files.pythonhosted.org/packages/6c/09/927ae35fc5a9f70abb6cc2c27ee88fc48549f7bc4786c1d4b177c22e997d/jellyfish-0.8.2-cp36-cp36m-manylinux2014_x86_64.whl (93kB)\n",
            "\u001b[K     |████████████████████████████████| 102kB 6.5MB/s \n",
            "\u001b[?25hRequirement already satisfied: srsly>=0.0.5 in /usr/local/lib/python3.6/dist-packages (from textacy) (1.0.5)\n",
            "Collecting cytoolz>=0.8.0\n",
            "\u001b[?25l  Downloading https://files.pythonhosted.org/packages/58/67/1c60da8ba831bfefedb64c78b9f6820bdf58972797c95644ee3191daf27a/cytoolz-0.11.0.tar.gz (477kB)\n",
            "\u001b[K     |████████████████████████████████| 481kB 15.8MB/s \n",
            "\u001b[?25hRequirement already satisfied: scikit-learn<0.24.0,>=0.19.0 in /usr/local/lib/python3.6/dist-packages (from textacy) (0.22.2.post1)\n",
            "Requirement already satisfied: scipy>=0.17.0 in /usr/local/lib/python3.6/dist-packages (from textacy) (1.4.1)\n",
            "Requirement already satisfied: cachetools>=2.0.1 in /usr/local/lib/python3.6/dist-packages (from textacy) (4.2.1)\n",
            "Requirement already satisfied: numpy>=1.17.0 in /usr/local/lib/python3.6/dist-packages (from textacy) (1.19.5)\n",
            "Requirement already satisfied: pyemd>=0.5.0 in /usr/local/lib/python3.6/dist-packages (from textacy) (0.5.1)\n",
            "Requirement already satisfied: tqdm>=4.19.6 in /usr/local/lib/python3.6/dist-packages (from textacy) (4.41.1)\n",
            "Requirement already satisfied: certifi>=2017.4.17 in /usr/local/lib/python3.6/dist-packages (from requests>=2.10.0->textacy) (2020.12.5)\n",
            "Requirement already satisfied: idna<3,>=2.5 in /usr/local/lib/python3.6/dist-packages (from requests>=2.10.0->textacy) (2.10)\n",
            "Requirement already satisfied: urllib3!=1.25.0,!=1.25.1,<1.26,>=1.21.1 in /usr/local/lib/python3.6/dist-packages (from requests>=2.10.0->textacy) (1.24.3)\n",
            "Requirement already satisfied: chardet<4,>=3.0.2 in /usr/local/lib/python3.6/dist-packages (from requests>=2.10.0->textacy) (3.0.4)\n",
            "Requirement already satisfied: decorator>=4.3.0 in /usr/local/lib/python3.6/dist-packages (from networkx>=2.0->textacy) (4.4.2)\n",
            "Requirement already satisfied: wasabi<1.1.0,>=0.4.0 in /usr/local/lib/python3.6/dist-packages (from spacy<3.0.0,>=2.2.0->textacy) (0.8.2)\n",
            "Requirement already satisfied: catalogue<1.1.0,>=0.0.7 in /usr/local/lib/python3.6/dist-packages (from spacy<3.0.0,>=2.2.0->textacy) (1.0.0)\n",
            "Requirement already satisfied: plac<1.2.0,>=0.9.6 in /usr/local/lib/python3.6/dist-packages (from spacy<3.0.0,>=2.2.0->textacy) (1.1.3)\n",
            "Requirement already satisfied: blis<0.5.0,>=0.4.0 in /usr/local/lib/python3.6/dist-packages (from spacy<3.0.0,>=2.2.0->textacy) (0.4.1)\n",
            "Requirement already satisfied: cymem<2.1.0,>=2.0.2 in /usr/local/lib/python3.6/dist-packages (from spacy<3.0.0,>=2.2.0->textacy) (2.0.5)\n",
            "Requirement already satisfied: murmurhash<1.1.0,>=0.28.0 in /usr/local/lib/python3.6/dist-packages (from spacy<3.0.0,>=2.2.0->textacy) (1.0.5)\n",
            "Requirement already satisfied: preshed<3.1.0,>=3.0.2 in /usr/local/lib/python3.6/dist-packages (from spacy<3.0.0,>=2.2.0->textacy) (3.0.5)\n",
            "Requirement already satisfied: setuptools in /usr/local/lib/python3.6/dist-packages (from spacy<3.0.0,>=2.2.0->textacy) (53.0.0)\n",
            "Requirement already satisfied: thinc==7.4.0 in /usr/local/lib/python3.6/dist-packages (from spacy<3.0.0,>=2.2.0->textacy) (7.4.0)\n",
            "Requirement already satisfied: toolz>=0.8.0 in /usr/local/lib/python3.6/dist-packages (from cytoolz>=0.8.0->textacy) (0.11.1)\n",
            "Requirement already satisfied: importlib-metadata>=0.20; python_version < \"3.8\" in /usr/local/lib/python3.6/dist-packages (from catalogue<1.1.0,>=0.0.7->spacy<3.0.0,>=2.2.0->textacy) (3.4.0)\n",
            "Requirement already satisfied: typing-extensions>=3.6.4; python_version < \"3.8\" in /usr/local/lib/python3.6/dist-packages (from importlib-metadata>=0.20; python_version < \"3.8\"->catalogue<1.1.0,>=0.0.7->spacy<3.0.0,>=2.2.0->textacy) (3.7.4.3)\n",
            "Requirement already satisfied: zipp>=0.5 in /usr/local/lib/python3.6/dist-packages (from importlib-metadata>=0.20; python_version < \"3.8\"->catalogue<1.1.0,>=0.0.7->spacy<3.0.0,>=2.2.0->textacy) (3.4.0)\n",
            "Building wheels for collected packages: cytoolz\n",
            "  Building wheel for cytoolz (setup.py) ... \u001b[?25l\u001b[?25hdone\n",
            "  Created wheel for cytoolz: filename=cytoolz-0.11.0-cp36-cp36m-linux_x86_64.whl size=1225591 sha256=27ba0779cd3588efa0610584fe355d6163d98e58ef9c1d37051362e2bdfd3d0c\n",
            "  Stored in directory: /root/.cache/pip/wheels/a1/32/3c/9c9926b510647cacdde744b2c7acdf1ccd5896fbb7f8d5df0c\n",
            "Successfully built cytoolz\n",
            "Installing collected packages: pyphen, jellyfish, cytoolz, textacy\n",
            "Successfully installed cytoolz-0.11.0 jellyfish-0.8.2 pyphen-0.10.0 textacy-0.10.1\n"
          ],
          "name": "stdout"
        }
      ]
    },
    {
      "cell_type": "code",
      "metadata": {
        "id": "teZm1IFGFRRN"
      },
      "source": [
        "nlp = spacy.load('en_core_web_sm')\n",
        "text = 'Stephen Hawking was a British scientist, professor and author who performed groundbreaking work in physics and cosmology, and whose books helped to make science accessible to everyone.'"
      ],
      "execution_count": null,
      "outputs": []
    },
    {
      "cell_type": "code",
      "metadata": {
        "colab": {
          "base_uri": "https://localhost:8080/"
        },
        "id": "-xGRfOjoFW8o",
        "outputId": "6d297f6d-6a0b-4bcf-8711-09cac84b535f"
      },
      "source": [
        "#IE: Triplet Extraction\n",
        "\n",
        "for sentence in text.split(\".\"):\n",
        "    t1 = nlp(sentence)\n",
        "    triple = textacy.extract.subject_verb_object_triples(t1)\n",
        "    print(triple)\n",
        "    triple_list = []\n",
        "    if triple:\n",
        "        triple_to_list = list(triple)\n",
        "        triple_list.append(triple_to_list)\n",
        "        print(triple_list)"
      ],
      "execution_count": null,
      "outputs": [
        {
          "output_type": "stream",
          "text": [
            "<generator object subject_verb_object_triples at 0x7f2a5a959048>\n",
            "[1, [(books, helped, to make)]]\n",
            "<generator object subject_verb_object_triples at 0x7f2a5a954b48>\n",
            "[1, []]\n"
          ],
          "name": "stdout"
        }
      ]
    },
    {
      "cell_type": "code",
      "metadata": {
        "colab": {
          "base_uri": "https://localhost:8080/"
        },
        "id": "PQjw8p2JJXsN",
        "outputId": "6e6e9e82-fc53-4acd-964d-eddc2dfb2bd6"
      },
      "source": [
        "import nltk\n",
        "#nltk.download('wordnet')\n",
        "from nltk.corpus import wordnet\n",
        "nltk.download('wordnet')"
      ],
      "execution_count": null,
      "outputs": [
        {
          "output_type": "stream",
          "text": [
            "[nltk_data] Downloading package wordnet to /root/nltk_data...\n",
            "[nltk_data]   Package wordnet is already up-to-date!\n"
          ],
          "name": "stdout"
        },
        {
          "output_type": "execute_result",
          "data": {
            "text/plain": [
              "True"
            ]
          },
          "metadata": {
            "tags": []
          },
          "execution_count": 87
        }
      ]
    },
    {
      "cell_type": "code",
      "metadata": {
        "colab": {
          "base_uri": "https://localhost:8080/"
        },
        "id": "jkIKfTHgY-xr",
        "outputId": "4586981c-76fb-402b-e691-458a679d3f21"
      },
      "source": [
        "#1 Hyponym (general concept)\n",
        "syn = wordnet.synsets('school')[0]\n",
        "print(\"Synset name :  \", syn.name())\n",
        "print(\"\\nHypernyms Synset general concept :  \", syn.hypernyms())\n",
        "\n",
        "#2 Hyponym (specific concept)\n",
        "print(\"\\nHyponyms Synset specific concept :  \",\n",
        "      syn.hypernyms()[0].hyponyms())"
      ],
      "execution_count": null,
      "outputs": [
        {
          "output_type": "stream",
          "text": [
            "Synset name :   school.n.01\n",
            "\n",
            "Hypernyms Synset general concept :   [Synset('educational_institution.n.01')]\n",
            "\n",
            "Hyponyms Synset specific concept :   [Synset('college.n.02'), Synset('preschool.n.01'), Synset('school.n.01'), Synset('school.n.06'), Synset('university.n.03')]\n"
          ],
          "name": "stdout"
        }
      ]
    },
    {
      "cell_type": "code",
      "metadata": {
        "id": "kyjVGb-MvQ_q"
      },
      "source": [
        "#3 Meronym (denotes a part of something) \n",
        "syn = wordnet.synsets('tree')[0]\n",
        "print(\"\\nSubstance Meronyms : \",syn.substance_meronyms())\n",
        "print(\"\\nPart Meronyms : \",syn.part_meronyms())"
      ],
      "execution_count": null,
      "outputs": []
    },
    {
      "cell_type": "code",
      "metadata": {
        "id": "gRhNZzcXvQro"
      },
      "source": [
        "#3 Holonym (denotes a membership to something)\n",
        "syn = wordnet.synsets('hydrogen')[0]\n",
        "print(\"\\nSubstance holonyms : \",syn.substance_holonyms())\n",
        "print(\"\\nPart holonyms : \",syn.part_holonyms())"
      ],
      "execution_count": null,
      "outputs": []
    },
    {
      "cell_type": "code",
      "metadata": {
        "id": "VLi8MU59vQop"
      },
      "source": [
        "#4 Entailment (denotes how verbs are involved)\n",
        "syn = wordnet.synsets('eat')[0]\n",
        "print(\"\\nEntailments : \",syn.entailments())\n",
        "\n",
        "#Done!"
      ],
      "execution_count": null,
      "outputs": []
    },
    {
      "cell_type": "code",
      "metadata": {
        "colab": {
          "base_uri": "https://localhost:8080/"
        },
        "id": "tsFsYWeGa7_C",
        "outputId": "2f2786ac-cef2-433b-e291-81b16a2076c0"
      },
      "source": [
        "# I did this part to satisfy my curiosity :)\n",
        "\n",
        "# comparison/ similarity score between 2 words\n",
        "word1 = wordnet.synset('Home.n.01')\n",
        "word2 = wordnet.synset('House.n.01') # n denotes noun\n",
        "print(\"The similarity score betwee Home and House is =\",word1.wup_similarity(word2))"
      ],
      "execution_count": null,
      "outputs": [
        {
          "output_type": "stream",
          "text": [
            "The similarity score betwee Home and House is = 0.35294117647058826\n"
          ],
          "name": "stdout"
        }
      ]
    },
    {
      "cell_type": "code",
      "metadata": {
        "colab": {
          "base_uri": "https://localhost:8080/"
        },
        "id": "KHysYYVkJXlA",
        "outputId": "5b2af0f6-af12-40c4-e20b-a23ceba9ea28"
      },
      "source": [
        "##This part too :)\n",
        "\n",
        "\n",
        "# lets use word paint as an exqmple\n",
        "syns = wordnet.synsets(\"school\")\n",
        "\n",
        "# An example of a synset:\n",
        "print(syns[0].name())\n",
        "print('\\n')\n",
        "# Just the word:\n",
        "print(syns[0].lemmas()[0].name())\n",
        "print('\\n')\n",
        "\n",
        "# Definition of that first synset:\n",
        "print(syns[0].definition())\n",
        "print('\\n')\n",
        "# Examples of the word in use in sentences:\n",
        "print(syns[0].examples())\n",
        "print('\\n')\n"
      ],
      "execution_count": null,
      "outputs": [
        {
          "output_type": "stream",
          "text": [
            "school.n.01\n",
            "\n",
            "\n",
            "school\n",
            "\n",
            "\n",
            "an educational institution\n",
            "\n",
            "\n",
            "['the school was founded in 1900']\n",
            "\n",
            "\n"
          ],
          "name": "stdout"
        }
      ]
    }
  ]
}